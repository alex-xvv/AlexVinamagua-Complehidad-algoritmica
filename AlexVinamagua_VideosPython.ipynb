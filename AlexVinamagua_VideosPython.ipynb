{
  "nbformat": 4,
  "nbformat_minor": 0,
  "metadata": {
    "colab": {
      "name": "AlexVinamagua-VideosPython.ipynb",
      "provenance": [],
      "collapsed_sections": [],
      "authorship_tag": "ABX9TyMFkKTKkqNiDGsMQdMdBkhf",
      "include_colab_link": true
    },
    "kernelspec": {
      "name": "python3",
      "display_name": "Python 3"
    },
    "language_info": {
      "name": "python"
    }
  },
  "cells": [
    {
      "cell_type": "markdown",
      "metadata": {
        "id": "view-in-github",
        "colab_type": "text"
      },
      "source": [
        "<a href=\"https://colab.research.google.com/github/alex-xvv/AlexVinamagua-Complejidad-algoritmica/blob/main/AlexVinamagua_VideosPython.ipynb\" target=\"_parent\"><img src=\"https://colab.research.google.com/assets/colab-badge.svg\" alt=\"Open In Colab\"/></a>"
      ]
    },
    {
      "cell_type": "markdown",
      "source": [
        "Definir dos funciones para calcular la suma de 1 a n numeros.\n",
        "Una de ellas sumando unos a umo cada numero,\n",
        "y otra aplicando la formunla de la asuma aritmetica de Gauss."
      ],
      "metadata": {
        "id": "yH4VhksUQ3u6"
      }
    },
    {
      "cell_type": "code",
      "source": [
        "import time\n",
        "def suma_lineal(n):\n",
        "  suma = 0\n",
        "  for i in range(1, n+1):\n",
        "    suma+=1\n",
        "    return suma\n",
        "\n",
        "def suma_constante(n):\n",
        "  return (n/2)*(n+1)\n",
        "\n",
        "  cantidad = 1000000\n",
        "\n",
        "for i in range(4):\n",
        "  t0 = time.time()\n",
        "  suma1 = suma_lineal(cantidad)\n",
        "  t1=time.time()\n",
        "  suma2 = suma_constante(cantidad)\n",
        "  t2 = time.time()\n",
        "  print(\"{} - {}\".format(suma1, t1-t0))\n",
        "  print(\"{} - {}\".format(suma2, t2-t1))\n",
        "  cantidad *= 10"
      ],
      "metadata": {
        "id": "iLYiWcmeRXz7"
      },
      "execution_count": null,
      "outputs": []
    },
    {
      "cell_type": "markdown",
      "source": [
        "#Codigo de ordenamiento"
      ],
      "metadata": {
        "id": "1OU-0RuDUqxL"
      }
    },
    {
      "cell_type": "code",
      "source": [
        "listado_datos = [14, 26, 39, 25, 11, 18, 42, 31, 17, 23]\n",
        "dato_buscado = 31\n",
        "\n",
        "def busqueda_lineal(lista, buscar):\n",
        "  for elemento in lista:\n",
        "    if elemento == buscar:\n",
        "      return True\n",
        "  return False\n",
        "\n",
        "if busqueda_lineal(listado_datos, dato_buscado):\n",
        "  print(\"Dato encontrado\")\n",
        "else:\n",
        "  print(\"Dato no encontrado\")"
      ],
      "metadata": {
        "id": "DCDCNMWxUs5c"
      },
      "execution_count": null,
      "outputs": []
    },
    {
      "cell_type": "markdown",
      "source": [
        "#Cuadratico"
      ],
      "metadata": {
        "id": "NoMdX6mkVl1Z"
      }
    },
    {
      "cell_type": "code",
      "source": [
        "cantidades = [12, 23, 41, 36, 28, 54, 35, 46, 52, 19, 27]\n",
        "numero = 74\n",
        "\n",
        "def suma_dos(lista, valor):\n",
        "  pares = []\n",
        "  for i in lista:\n",
        "    for j in lista:\n",
        "      if i+j == valor:\n",
        "        pares.append([i,j])\n",
        "  return pares\n",
        "\n",
        "print(suma_dos(cantidades, numero))"
      ],
      "metadata": {
        "id": "xOfIud-mVoIV"
      },
      "execution_count": null,
      "outputs": []
    },
    {
      "cell_type": "markdown",
      "source": [
        "Una empresa de autopistas tiene instalada una camara que cuenta el nuemro de vehiculos que pasa por una autopista, y tiene instaladas una gomas que cuentan el numero de ruedas de los vehiculos que pasan por la autopista.\n",
        "La empresa quiere contratar a un programador para que elabore un algoritmo que a partir del numero de vehiculos y el numero de ruedas, extraiga la cantidad de coches y motos que pasan por la autopista."
      ],
      "metadata": {
        "id": "6otl9o2QWcKi"
      }
    },
    {
      "cell_type": "code",
      "source": [
        "# Algoritmo O(n**2)\n",
        "def extraccion_1(vehiculos, ruedas):\n",
        "  for coches in range(vehiculos+1):\n",
        "    for motos in range(vehiculos+1):\n",
        "      if((coches+motos)== vehiculos) and ((coches*4 + motos*2) == ruedas):\n",
        "        return coches, motos\n",
        "    return None\n",
        "\n",
        "def extraccion_2(vehiculos, ruedas):\n",
        "  for coches in range(vehiculos+1):\n",
        "    motos = vehiculos - coches\n",
        "    if coches*4+motos*2 == ruedas:\n",
        "      return coches, motos\n",
        "  return None\n",
        "\n",
        "#Algortimo O(1)\n",
        "def extraccion_3(vehiculos, ruedas):\n",
        "  coches = ruedas/2-vehiculos\n",
        "  motos = vehiculos - coches\n",
        "\n",
        "  if int(coches)+int(motos) == vehiculos:\n",
        "    return int(coches), int(motos)\n",
        "  else:\n",
        "    return None"
      ],
      "metadata": {
        "id": "KLbA7b3WW_q1"
      },
      "execution_count": null,
      "outputs": []
    }
  ]
}
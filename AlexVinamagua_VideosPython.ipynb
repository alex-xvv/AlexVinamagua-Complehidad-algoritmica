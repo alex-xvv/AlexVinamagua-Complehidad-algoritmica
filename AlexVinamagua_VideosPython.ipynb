{
  "nbformat": 4,
  "nbformat_minor": 0,
  "metadata": {
    "colab": {
      "name": "AlexVinamagua-VideosPython.ipynb",
      "provenance": [],
      "collapsed_sections": [],
      "authorship_tag": "ABX9TyNdiAEd+R7Grs5QdYNVdX4E",
      "include_colab_link": true
    },
    "kernelspec": {
      "name": "python3",
      "display_name": "Python 3"
    },
    "language_info": {
      "name": "python"
    }
  },
  "cells": [
    {
      "cell_type": "markdown",
      "metadata": {
        "id": "view-in-github",
        "colab_type": "text"
      },
      "source": [
        "<a href=\"https://colab.research.google.com/github/alex-xvv/AlexVinamagua-Complejidad-algoritmica/blob/main/AlexVinamagua_VideosPython.ipynb\" target=\"_parent\"><img src=\"https://colab.research.google.com/assets/colab-badge.svg\" alt=\"Open In Colab\"/></a>"
      ]
    },
    {
      "cell_type": "markdown",
      "source": [
        "Definir dos funciones para calcular la suma de 1 a n numeros.\n",
        "Una de ellas sumando unos a umo cada numero,\n",
        "y otra aplicando la formunla de la asuma aritmetica de Gauss."
      ],
      "metadata": {
        "id": "yH4VhksUQ3u6"
      }
    },
    {
      "cell_type": "code",
      "source": [
        "import time\n",
        "def suma_lineal(n):\n",
        "  suma = 0\n",
        "  for i in range(1, n+1):\n",
        "    suma+=1\n",
        "    return suma\n",
        "\n",
        "def suma_constante(n):\n",
        "  return (n/2)*(n+1)\n",
        "\n",
        "  cantidad = 1000000\n",
        "\n",
        "for i in range(4):\n",
        "  t0 = time.time()\n",
        "  suma1 = suma_lineal(cantidad)\n",
        "  t1=time.time()\n",
        "  suma2 = suma_constante(cantidad)\n",
        "  t2 = time.time()\n",
        "  print(\"{} - {}\".format(suma1, t1-t0))\n",
        "  print(\"{} - {}\".format(suma2, t2-t1))\n",
        "  cantidad *= 10"
      ],
      "metadata": {
        "id": "iLYiWcmeRXz7"
      },
      "execution_count": null,
      "outputs": []
    },
    {
      "cell_type": "markdown",
      "source": [
        "#Codigo de ordenamiento"
      ],
      "metadata": {
        "id": "1OU-0RuDUqxL"
      }
    },
    {
      "cell_type": "code",
      "source": [
        "listado_datos = [14, 26, 39, 25, 11, 18, 42, 31, 17, 23]\n",
        "dato_buscado = 31\n",
        "\n",
        "def busqueda_lineal(lista, buscar):\n",
        "  for elemento in lista:\n",
        "    if elemento == buscar:\n",
        "      return True\n",
        "  return False\n",
        "\n",
        "if busqueda_lineal(listado_datos, dato_buscado):\n",
        "  print(\"Dato encontrado\")\n",
        "else:\n",
        "  print(\"Dato no encontrado\")"
      ],
      "metadata": {
        "id": "DCDCNMWxUs5c"
      },
      "execution_count": null,
      "outputs": []
    },
    {
      "cell_type": "markdown",
      "source": [
        "#Cuadratico"
      ],
      "metadata": {
        "id": "NoMdX6mkVl1Z"
      }
    },
    {
      "cell_type": "code",
      "source": [
        "cantidades = [12, 23, 41, 36, 28, 54, 35, 46, 52, 19, 27]\n",
        "numero = 74\n",
        "\n",
        "def suma_dos(lista, valor):\n",
        "  pares = []\n",
        "  for i in lista:\n",
        "    for j in lista:\n",
        "      if i+j == valor:\n",
        "        pares.append([i,j])\n",
        "  return pares\n",
        "\n",
        "print(suma_dos(cantidades, numero))"
      ],
      "metadata": {
        "id": "xOfIud-mVoIV"
      },
      "execution_count": null,
      "outputs": []
    },
    {
      "cell_type": "markdown",
      "source": [
        "Una empresa de autopistas tiene instalada una camara que cuenta el nuemro de vehiculos que pasa por una autopista, y tiene instaladas una gomas que cuentan el numero de ruedas de los vehiculos que pasan por la autopista.\n",
        "La empresa quiere contratar a un programador para que elabore un algoritmo que a partir del numero de vehiculos y el numero de ruedas, extraiga la cantidad de coches y motos que pasan por la autopista."
      ],
      "metadata": {
        "id": "6otl9o2QWcKi"
      }
    },
    {
      "cell_type": "code",
      "source": [
        "# Algoritmo O(n**2)\n",
        "def extraccion_1(vehiculos, ruedas):\n",
        "  for coches in range(vehiculos+1):\n",
        "    for motos in range(vehiculos+1):\n",
        "      if((coches+motos)== vehiculos) and ((coches*4 + motos*2) == ruedas):\n",
        "        return coches, motos\n",
        "    return None\n",
        "\n",
        "def extraccion_2(vehiculos, ruedas):\n",
        "  for coches in range(vehiculos+1):\n",
        "    motos = vehiculos - coches\n",
        "    if coches*4+motos*2 == ruedas:\n",
        "      return coches, motos\n",
        "  return None\n",
        "\n",
        "#Algortimo O(1)\n",
        "def extraccion_3(vehiculos, ruedas):\n",
        "  coches = ruedas/2-vehiculos\n",
        "  motos = vehiculos - coches\n",
        "\n",
        "  if int(coches)+int(motos) == vehiculos:\n",
        "    return int(coches), int(motos)\n",
        "  else:\n",
        "    return None"
      ],
      "metadata": {
        "id": "KLbA7b3WW_q1"
      },
      "execution_count": null,
      "outputs": []
    },
    {
      "cell_type": "markdown",
      "source": [
        "#Busqueda Binaria"
      ],
      "metadata": {
        "id": "Kq0dkUwyZOrx"
      }
    },
    {
      "cell_type": "code",
      "source": [
        "datos = [2,3,5,6,8,11,12,15,17,18,21,23,24,29,30]\n",
        "buscado=23\n",
        "\n",
        "def busqueda_binaria(lista, elemento):\n",
        "  inicio=0\n",
        "  final=len(lista)-1\n",
        "\n",
        "  while inicio <= final:\n",
        "    medio = (inicio+final)//2\n",
        "\n",
        "    if lista[medio] == elemento:\n",
        "      return True\n",
        "    elif lista[medio] < elemento:\n",
        "      inicio = medio+1\n",
        "    elif lista[medio] > elemento:\n",
        "      final = medio -1\n",
        "  return False"
      ],
      "metadata": {
        "id": "TIGIZTaqZRAQ"
      },
      "execution_count": null,
      "outputs": []
    },
    {
      "cell_type": "code",
      "source": [
        "datos = []\n",
        "for i in range(15000000):\n",
        "  datos.append(i)\n",
        "\n",
        "def busqueda_binaria(lista, elemento):\n",
        "  pasos = 0\n",
        "  inicio = 0\n",
        "  final = len(lista)-1\n",
        "  while inicio <= final:\n",
        "    pasos += 1\n",
        "    medio = (inicio+final) //2\n",
        "    if elemento == medio:\n",
        "      return True, pasos\n",
        "    elif elemento > medio:\n",
        "      inicio = medio+1\n",
        "    elif elemento < medio:\n",
        "      final = medio-1\n",
        "  return False, pasos\n",
        "\n",
        "print(busqueda_binaria(datos, 12347))"
      ],
      "metadata": {
        "id": "JiwNTaL0aotF"
      },
      "execution_count": null,
      "outputs": []
    },
    {
      "cell_type": "markdown",
      "source": [
        "#Busqueda Censo"
      ],
      "metadata": {
        "id": "JNnGFDcEbttt"
      }
    },
    {
      "cell_type": "code",
      "source": [
        "import random\n",
        "\n",
        "censo = []\n",
        "alfabeto = \"ABCDEFGIJAEIOULMNOPRSTUAEIO\"\n",
        "numero=0\n",
        "\n",
        "print(\"Creando censo ...\")\n",
        "\n",
        "for i in range(500_000):\n",
        "  aumento=random.randint(1,2)\n",
        "  numero+=aumento\n",
        "\n",
        "  letras=random.sample(alfabeto,5)\n",
        "  nombre=\"\".join(letras)\n",
        "\n",
        "  edad = random.randint(18, 99)\n",
        "  impuestos=random.choice((True, True, True, False))\n",
        "  censo.append([numero, nombre, edad, impuestos])\n",
        "\n",
        "  if len(censo) % 100_000 == 0:\n",
        "    print(\"Creados\", len(censo),\"registros\")\n",
        "  \n",
        "print(\"Censo creado.\")\n",
        "print(\"Ultimo registro:\", censo[-1])\n",
        "\n",
        "def busqueda_numero(lista, elemento):\n",
        "  inicio=0\n",
        "  final=len(lista)-1\n",
        "\n",
        "  while inicio <= final:\n",
        "    medio = (inicio+final)//2\n",
        "    if lista[medio][0]==elemento:\n",
        "      return lista[medio]\n",
        "    elif lista[medio][0]<elemento:\n",
        "      inicio=medio+1\n",
        "    elif lista[medio][0]>elemento:\n",
        "      final=medio-1\n",
        "  return None\n",
        "\n",
        "def busqueda_nombre(lista, elemento):\n",
        "  encontrados=[]\n",
        "  for registro in lista:\n",
        "    if registro[1]==elemento:\n",
        "      encontrados.append(registro)\n",
        "  if len(encontrados)==0:\n",
        "    return None\n",
        "  else:\n",
        "    return encontrados\n",
        "\n",
        "def muestra_registro(registro):\n",
        "  if registro==None:\n",
        "    print(\"No existe registro con ese dato\")\n",
        "  else:\n",
        "    print(\"-----------------------\")\n",
        "    print(\"Numero:\", registro[0])\n",
        "    print(\"Nombre:\", registro[1])\n",
        "    print(\"Edad:\", registro[2])\n",
        "    print(\"Impuestos:\", registro[3])\n",
        "\n",
        "def menu():\n",
        "  print(\"-----------------------\")\n",
        "  print(\"- CENSO DE POBLACION -\")\n",
        "  print(\"-----------------------\")\n",
        "  print(\"1. Buscar por numero\")\n",
        "  print(\"2. Buscar por nombre\")\n",
        "  print(\"3. Salir\")\n",
        "  opcion=\"\"\n",
        "  while opcion not in (\"1\",\"2\",\"3\"):\n",
        "    opcion = input(\"--> \")\n",
        "  return opcion\n",
        "\n",
        "While True:\n",
        "op = menu()\n",
        "if op == \"1\":\n",
        "  try:\n",
        "    numero=int(input(\"Introduce numero: \"))\n",
        "  except ValueError:\n",
        "    print(\"Introduce un numero entero\")\n",
        "  else:\n",
        "    registro = busqueda_numero(censo, numero)\n",
        "    muestra_registro(registro)\n",
        "elif op==\"2\":\n",
        "  nombre = input(\"Introduce un nombre: \").upper()\n",
        "  registros=busqueda_nombre(censo, nombre)\n",
        "  if registros==None:\n",
        "    print(\"No existe registro con ese dato\")\n",
        "  else:\n",
        "    for registro in registros:\n",
        "      muestra_registro(registro)\n",
        "elif op==\"3\":\n",
        "  break"
      ],
      "metadata": {
        "colab": {
          "base_uri": "https://localhost:8080/"
        },
        "id": "jWp0xlcTbwQJ",
        "outputId": "30ac0b54-7aa7-4778-e9a2-4506843c7f3f"
      },
      "execution_count": 11,
      "outputs": [
        {
          "output_type": "stream",
          "name": "stdout",
          "text": [
            "Creando censo ...\n",
            "Creados 100000 registros\n",
            "Creados 200000 registros\n",
            "Creados 300000 registros\n",
            "Creados 400000 registros\n",
            "Creados 500000 registros\n",
            "Censo creado.\n",
            "Ultimo registro: [750048, 'IEDCE', 27, False]\n"
          ]
        }
      ]
    }
  ]
}
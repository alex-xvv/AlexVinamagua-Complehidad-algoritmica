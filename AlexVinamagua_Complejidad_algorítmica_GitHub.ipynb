#Link: https://colab.research.google.com/drive/14cVUZ4jOkh0AmQjHzJhehMKl70DGyRKU?usp=sharing
{
  "nbformat": 4,
  "nbformat_minor": 0,
  "metadata": {
    "colab": {
      "name": "AlexVinamagua-Complejidad algorítmica-GitHub.ipynb",
      "provenance": [],
      "authorship_tag": "ABX9TyP5OFLMCAo+PaDqqEpznQ5X",
      "include_colab_link": true
    },
    "kernelspec": {
      "name": "python3",
      "display_name": "Python 3"
    },
    "language_info": {
      "name": "python"
    }
  },
  "cells": [
    {
      "cell_type": "markdown",
      "metadata": {
        "id": "view-in-github",
        "colab_type": "text"
      },
      "source": [
        "<a href=\"https://colab.research.google.com/github/alex-xvv/AlexVinamagua-Complejidad-algoritmica/blob/main/AlexVinamagua_Complejidad_algor%C3%ADtmica_GitHub.ipynb\" target=\"_parent\"><img src=\"https://colab.research.google.com/assets/colab-badge.svg\" alt=\"Open In Colab\"/></a>"
      ]
    },
    {
      "cell_type": "markdown",
      "source": [
        "#Complejidad algorítmica\n",
        "Introducción a la complejidad algorítmica\n",
        "La complejidad algorítmica nos permite comparar la eficiencia de 2 algoritmos, esto a su vez va a predecir el tiempo que va a tomar resolver un problema. No solamente podemos analizar la complejidad desde la perspectiva temporal, también la podemos hacer desde la espacial, como por ejemplo cuanto espacio en memoria necesitamos.\n",
        "\n",
        "La complejidad algorítmica temporal la podemos definir como T(n) el cual determinara el tiempo que demora en resolver nuestro algoritmo.\n",
        "\n",
        "Aproximaciones\n",
        "¿Como podríamos aplicar nuestra función T(n)?\n",
        "\n",
        "Cronometrar el tiempo en el que corre un algoritmo. Sin embargo no es una buena forma de medir los algoritmos, ya que no se puede predecir cuanto demorara a medida que crece nuestros pasos.\n",
        "\n",
        "Contar los pasos con una medida abstracta de operación. Nos puede acercar a una medición ideal, sin embargo varia mucho de algoritmo en algoritmo y a medida que crece nuestro dataset existen muchos términos que llegan a ser irrelevantes.\n",
        "\n",
        "Contar los pasos conforme nos aproximamos al infinito pero con una medida asintótica.\n",
        "\n",
        "\n",
        "#Medición temporal\n",
        "Para una realizar una medida temporal simplemente calculamos la diferencia del tiempo previo y posterior de la ejecución del algoritmo.\n"
      ],
      "metadata": {
        "id": "nO2VFi0zTgL7"
      }
    },
    {
      "cell_type": "code",
      "execution_count": 1,
      "metadata": {
        "colab": {
          "base_uri": "https://localhost:8080/"
        },
        "id": "HgXx9JkjTWPb",
        "outputId": "ed6f286d-1c1e-4130-816c-be72c51f4675"
      },
      "outputs": [
        {
          "output_type": "stream",
          "name": "stdout",
          "text": [
            "16.339760303497314\n",
            "15.8021719455719\n"
          ]
        }
      ],
      "source": [
        "import time\n",
        "\n",
        "def factorial(n):\n",
        "    respuesta = 1\n",
        "\n",
        "    while n > 1:\n",
        "        respuesta *= n\n",
        "        n -= 1\n",
        "\n",
        "    return respuesta\n",
        "\n",
        "\n",
        "def factorial_r(n):\n",
        "    if n == 1:\n",
        "        return 1\n",
        "\n",
        "    return n * factorial(n - 1)\n",
        "\n",
        "\n",
        "if __name__ == '__main__':\n",
        "    n = 200000\n",
        "\n",
        "    comienzo = time.time()\n",
        "    factorial(n)\n",
        "    final = time.time()\n",
        "    print(final - comienzo)\n",
        "\n",
        "    comienzo = time.time()\n",
        "    factorial_r(n)\n",
        "    final = time.time()\n",
        "    print(final - comienzo)"
      ]
    },
    {
      "cell_type": "markdown",
      "source": [
        "#Conteo abstracto de operación\n",
        "Con esta técnica contamos los pasos que realiza nuestro algoritmo. En el siguiente ejemplo respuesta tendrá los números de pasos que realiza nuestro código al ejecutar."
      ],
      "metadata": {
        "id": "kp60_6TvUDY_"
      }
    },
    {
      "cell_type": "code",
      "source": [
        "def f(x):\n",
        "\n",
        "    respuesta = 0\n",
        "\n",
        "    for i in range(1000):\n",
        "        respuesta += 1\n",
        "\n",
        "    for i in range(x):\n",
        "        respuesta += x\n",
        "\n",
        "    for i in range(x):\n",
        "        for j in range(x):\n",
        "            respuesta += 1\n",
        "            respuesta += 1\n",
        "\n",
        "    return respuesta"
      ],
      "metadata": {
        "id": "YS7NOlzNUOpd"
      },
      "execution_count": 2,
      "outputs": []
    },
    {
      "cell_type": "markdown",
      "source": [
        "#Notación asintótica\n",
        "Cuando hablamos de notación asintótica no importan las variaciones pequeñas, el enfoque se centra en lo que pasa conforme el tamaño del problema se acerca al infinito.\n",
        "\n",
        "Siempre tenemos que estar preparados para cualquier caso, por lo que tenemos que saber medir a nuestro algoritmo en el mejor, promedio y peor de los casos.\n",
        "\n",
        "Lo mejor que nos permite comparar nuestros algoritmos y su capacidad es medir el peor de los casos, ahí es donde entra el Big O notation, donde lo único que importa es el termino de mayor tamaño, sin importar las constantes que las acompañan."
      ],
      "metadata": {
        "id": "5S3RHnUqUUdy"
      }
    },
    {
      "cell_type": "code",
      "source": [
        "# Ley de la suma\n",
        "\n",
        "def f(n):\n",
        "    for i in range(n):\n",
        "        print(i)\n",
        "\n",
        "    for i in range(n):\n",
        "        print(i)\n",
        "\n",
        "# En este caso el mayor término es n\n",
        "# O(n) + O(n) = O(n + n) = O(2n) = O(n)"
      ],
      "metadata": {
        "id": "BIfhM50DUXvr"
      },
      "execution_count": 3,
      "outputs": []
    },
    {
      "cell_type": "code",
      "source": [
        "# Ley de la suma\n",
        "\n",
        "def f(n):\n",
        "    for i in range(n):\n",
        "        print(i)\n",
        "\n",
        "    for i in range(n * n):\n",
        "        print(i)\n",
        "\n",
        "# En este caso el mayor término es n²\n",
        "# O(n) + O(n * n) = O(n + n²) = O(n²)"
      ],
      "metadata": {
        "id": "oBb0cs71UZqS"
      },
      "execution_count": 4,
      "outputs": []
    },
    {
      "cell_type": "code",
      "source": [
        "# Ley de la multiplicación\n",
        "\n",
        "def f(n):\n",
        "\n",
        "    for i in range(n):\n",
        "\n",
        "        for i in range(n):\n",
        "            print(i, j)\n",
        "\n",
        "# En este caso el mayor término es n²\n",
        "# O(n) + O(n * n) = O(n * n) = O(n²)"
      ],
      "metadata": {
        "id": "Rrzm3halUb_T"
      },
      "execution_count": 5,
      "outputs": []
    },
    {
      "cell_type": "code",
      "source": [
        "# Recursividad múltiple\n",
        "\n",
        "def fibonacci(n):\n",
        "\n",
        "    if n == 0 or n == 1:\n",
        "        return 1\n",
        "\n",
        "    return fibonacci(n - 1) +  fibonacci(n - 2)\n",
        "\n",
        "# En este caso el mayor término es 2**n (el símbolo ** denota \"elevado a\"),\n",
        "# ya que realiza recursividad 2 veces por n veces.\n",
        "# O(2**n)"
      ],
      "metadata": {
        "id": "TpPaDCZPUdkq"
      },
      "execution_count": 6,
      "outputs": []
    },
    {
      "cell_type": "markdown",
      "source": [
        "#Algoritmos de búsqueda y ordenación\n",
        "#Búsqueda lineal\n",
        "La búsqueda lineal es un algoritmo muy sencillo. Consta en buscar si un elemento se encuentra dentro de una lista, array o un sistema ordenado o no ordenado para poder determinar si el elemento se encuentra en el o forma parte de el.\n",
        "\n",
        "¿Cuál es el peor caso del siguiente código? Si nos fijamos existe un for loop que crece según el tamaño de la lista, por lo cual nuestro Big O es O(n)."
      ],
      "metadata": {
        "id": "2HGLlg6rUpS0"
      }
    },
    {
      "cell_type": "code",
      "source": [
        "import random\n",
        "\n",
        "def busqueda_lineal(lista, objetivo):\n",
        "    match = False\n",
        "\n",
        "    for elemento in lista: # O(n)\n",
        "        if elemento == objetivo:\n",
        "            match = True\n",
        "            break\n",
        "\n",
        "    return match\n",
        "\n",
        "\n",
        "if __name__ == '__main__':\n",
        "    tamano_de_lista = int(input('De que tamano sera la lista? '))\n",
        "    objetivo = int(input('Que numero quieres encontrar? '))\n",
        "\n",
        "    lista = [random.randint(0, 100) for i in range(tamano_de_lista)]\n",
        "\n",
        "    encontrado = busqueda_lineal(lista, objetivo)\n",
        "    print(lista)\n",
        "    print(f'El elemento {objetivo} {\"esta\" if encontrado else \"no esta\"} en la lista')"
      ],
      "metadata": {
        "colab": {
          "base_uri": "https://localhost:8080/"
        },
        "id": "In1Q3qyNUxI2",
        "outputId": "b7068018-f67e-4094-8e6c-8e0bc7b1492f"
      },
      "execution_count": 7,
      "outputs": [
        {
          "output_type": "stream",
          "name": "stdout",
          "text": [
            "De que tamano sera la lista? 2\n",
            "Que numero quieres encontrar? 3\n",
            "[0, 54]\n",
            "El elemento 3 no esta en la lista\n"
          ]
        }
      ]
    },
    {
      "cell_type": "markdown",
      "source": [
        "Para ver de forma practica haremos una búsqueda binaria a través de código. Lo primero que tenemos que realizar es ordenar nuestra lista antes de ejecutar la búsqueda."
      ],
      "metadata": {
        "id": "PDmBPv3XU4zE"
      }
    },
    {
      "cell_type": "code",
      "source": [
        "import random\n",
        "\n",
        "def busqueda_binaria(lista, comienzo, final, objetivo):\n",
        "    print(f'buscando {objetivo} entre {lista[comienzo]} y {lista[final - 1]}')\n",
        "    if comienzo > final:\n",
        "        return False\n",
        "\n",
        "    medio = (comienzo + final) // 2\n",
        "\n",
        "    if lista[medio] == objetivo:\n",
        "        return True\n",
        "    elif lista[medio] < objetivo:\n",
        "        return busqueda_binaria(lista, medio + 1, final, objetivo)\n",
        "    else:\n",
        "        return busqueda_binaria(lista, comienzo, medio - 1, objetivo)\n",
        "\n",
        "\n",
        "if __name__ == '__main__':\n",
        "    tamano_de_lista = int(input('De que tamano es la lista? '))\n",
        "    objetivo = int(input('Que numero quieres encontrar? '))\n",
        "\n",
        "    lista = sorted([random.randint(0, 100) for i in range(tamano_de_lista)])\n",
        "\n",
        "    encontrado = busqueda_binaria(lista, 0, len(lista), objetivo)\n",
        "\n",
        "    print(lista)\n",
        "    print(f'El elemento {objetivo} {\"esta\" if encontrado else \"no esta\"} en la lista')"
      ],
      "metadata": {
        "colab": {
          "base_uri": "https://localhost:8080/"
        },
        "id": "54O71wF8U558",
        "outputId": "41cd56f6-9ba4-4ddc-b5bd-6a6eff667478"
      },
      "execution_count": 8,
      "outputs": [
        {
          "output_type": "stream",
          "name": "stdout",
          "text": [
            "De que tamano es la lista? 12\n",
            "Que numero quieres encontrar? 6\n",
            "buscando 6 entre 8 y 89\n",
            "buscando 6 entre 8 y 49\n",
            "buscando 6 entre 8 y 8\n",
            "buscando 6 entre 8 y 85\n",
            "[8, 17, 22, 28, 49, 50, 56, 62, 64, 76, 85, 89]\n",
            "El elemento 6 no esta en la lista\n"
          ]
        }
      ]
    },
    {
      "cell_type": "markdown",
      "source": [
        "#Ordenamiento de burbuja\n",
        "El primer algoritmo de ordenamiento que veremos es el ordenamiento de burbuja. Es un algoritmo que recorre repetidamente una lista que necesita ordenarse. Compara elementos adyacentes y los intercambia si están en el orden incorrecto. Este procedimiento se repite hasta que no se requiere mas intercambios, lo que indica que la lista se encuentra ordenada."
      ],
      "metadata": {
        "id": "znk8ZlfnU_Wk"
      }
    },
    {
      "cell_type": "code",
      "source": [
        "import random\n",
        "\n",
        "\n",
        "def ordenamiento_de_burbuja(lista):\n",
        "    n = len(lista)\n",
        "\n",
        "    for i in range(n):\n",
        "        for j in range(0, n - i - 1): # O(n) * O(n) = O(n * n) = O(n**2)\n",
        "\n",
        "            if lista[j] > lista[j + 1]:\n",
        "                lista[j], lista[j + 1] = lista[j + 1], lista[j]\n",
        "\n",
        "    return lista\n",
        "\n",
        "if __name__ == '__main__':\n",
        "    tamano_de_lista = int(input('De que tamano sera la lista? '))\n",
        "\n",
        "    lista = [random.randint(0, 100) for i in range(tamano_de_lista)]\n",
        "    print(lista)\n",
        "\n",
        "    lista_ordenada = ordenamiento_de_burbuja(lista)\n",
        "    print(lista_ordenada)"
      ],
      "metadata": {
        "colab": {
          "base_uri": "https://localhost:8080/"
        },
        "id": "dBC-OenGVDwU",
        "outputId": "fdabac2b-4062-41fd-b60f-bdb035d4e7ed"
      },
      "execution_count": 9,
      "outputs": [
        {
          "output_type": "stream",
          "name": "stdout",
          "text": [
            "De que tamano sera la lista? 15\n",
            "[84, 38, 71, 98, 29, 7, 86, 84, 81, 42, 83, 32, 93, 68, 18]\n",
            "[7, 18, 29, 32, 38, 42, 68, 71, 81, 83, 84, 84, 86, 93, 98]\n"
          ]
        }
      ]
    },
    {
      "cell_type": "markdown",
      "source": [
        "#Ordenamiento por inserción\n",
        "El ordenamiento por inserción es uno de los algoritmos más comunes que estudian los Científicos del Cómputo. Es intuitivo y fácil de implementar, pero es muy ineficiente para listas de gran tamaño.\n",
        "\n",
        "Una de las características del ordenamiento por inserción es que ordena en “su lugar.” Es decir, no requiere memoria adicional para realizar el ordenamiento ya que simplemente modifican los valores en memoria.\n",
        "\n",
        "La definición es simple:"
      ],
      "metadata": {
        "id": "vbZoOtOJVKV1"
      }
    },
    {
      "cell_type": "markdown",
      "source": [
        "Una lista es dividida entre una sublista ordenada y otra sublista desordenada. Al principio, la sublista ordenada contiene un solo elemento, por lo que por definición se encuentra ordenada.\n",
        "\n",
        "A continuación se evalua el primer elemento dentro la sublista desordenada para que podamos insertarlo en el lugar correcto dentro de la lista ordenada.\n",
        "\n",
        "La inserción se realiza al mover todos los elementos mayores al elemento que se está evauluando un lugar a la derecha.\n",
        "\n",
        "Continua el proceso hasta que la sublista desordenada quede vacia y, por lo tanto, la lista se encontrará ordenada.\n",
        "Veamos un ejemplo:\n",
        "\n",
        "Imagina que tienes la siguiente lista de números:\n",
        "\n",
        "7, 3, 2, 9, 8\n",
        "\n",
        "Primero añadimos 7 a la sublista ordenada:\n",
        "\n",
        "7, 3, 2, 9, 8\n",
        "\n",
        "Ahora vemos el primer elemento de la sublista desordenada y lo guardamos en una variable para mantener el valor. A esa variable la llamaremos valor_actual. Verificamos que 3 es menor que 7, por lo que movemos 7 un lugar a la derecha.\n",
        "\n",
        "7, 7, 2, 9, 8 (valor_actual=3)\n",
        "\n",
        "3 es menor que 7, por lo que insertamos el valor en la primera posición.\n",
        "\n",
        "3, 7, 2, 9, 8\n",
        "\n",
        "Ahora vemos el número 2. 2 es menor que 7 por lo que lo movemos un espacio a la derecha y hacemos lo mismo con 3.\n",
        "\n",
        "3, 3, 7, 9, 8 (valor_actual=2)\n",
        "\n",
        "Ahora insertamos 2 en la primera posición.\n",
        "\n",
        "2, 3, 7, 9, 8\n",
        "\n",
        "9 es más grande que el valor más grande de nuestra sublista ordenada por lo que lo insertamos directamente en su posición.\n",
        "\n",
        "2, 3, 7, 9, 8\n",
        "\n",
        "El último valor es 8. 9 es más grande que 8 por lo que lo movemos a la derecha:\n",
        "\n",
        "2, 3, 7, 9, 9 (valor_actual=8)\n",
        "\n",
        "8 es más grande que 7, por lo que procedemos a insertar nuestro valor_actual.\n",
        "\n",
        "2, 3, 7, 8, 9\n",
        "\n",
        "Ahora la lista se encuentra ordenada y no quedan más elementos en la sublista desordenada.\n",
        "\n",
        "Antes de ver la implementación en Python, trata de implementarlo por ti mismo y compártenos tu algoritmo en la sección de comentarios.\n",
        "\n",
        "Esta es una forma de implementar el algoritmo anterior:"
      ],
      "metadata": {
        "id": "xdkdNz52VL00"
      }
    },
    {
      "cell_type": "code",
      "source": [
        "def ordenamiento_por_insercion(lista):\n",
        "\n",
        "    for indice in range(1, len(lista)):\n",
        "        valor_actual = lista[indice]\n",
        "        posicion_actual = indice\n",
        "\n",
        "        while posicion_actual > 0 and lista[posicion_actual - 1] > valor_actual:\n",
        "            lista[posicion_actual] = lista[posicion_actual - 1]\n",
        "            posicion_actual -= 1\n",
        "\n",
        "        lista[posicion_actual] = valor_actual"
      ],
      "metadata": {
        "id": "NVij82n8VQz7"
      },
      "execution_count": 10,
      "outputs": []
    },
    {
      "cell_type": "markdown",
      "source": [
        "#Ordenamiento por mezcla\n",
        "El ordenamiento por mezcla creado por John von Neumann el cual aplica el concepto de \"divide y conquista\". Primero divide una lista en partes iguales hasta que quedan sublistas de 1 o 0 elementos. Luego las recombina en forma ordenada."
      ],
      "metadata": {
        "id": "bklxdt5PVVQF"
      }
    },
    {
      "cell_type": "code",
      "source": [
        "import random\n",
        "\n",
        "def ordenamiento_por_mezcla(lista):\n",
        "    if len(lista) > 1:\n",
        "        medio = len(lista) // 2\n",
        "        izquierda = lista[:medio]\n",
        "        derecha = lista[medio:]\n",
        "        print(izquierda, '*' * 5, derecha)\n",
        "\n",
        "        # llamada recursiva en cada mitad\n",
        "        ordenamiento_por_mezcla(izquierda)\n",
        "        ordenamiento_por_mezcla(derecha)\n",
        "\n",
        "        # Iteradores para recorrer las dos sublistas\n",
        "        i = 0\n",
        "        j = 0\n",
        "        # Iterador para la lista principal\n",
        "        k = 0\n",
        "\n",
        "        while i < len(izquierda) and j < len(derecha):\n",
        "            if izquierda[i] < derecha[j]:\n",
        "                lista[k] = izquierda[i]\n",
        "                i += 1\n",
        "            else:\n",
        "                lista[k] = derecha[j]\n",
        "                j += 1\n",
        "\n",
        "            k += 1\n",
        "\n",
        "        while i < len(izquierda):\n",
        "            lista[k] = izquierda[i]\n",
        "            i += 1\n",
        "            k +=1\n",
        "\n",
        "        while j < len(derecha):\n",
        "            lista[k] = derecha[j]\n",
        "            j += 1\n",
        "            k += 1\n",
        "        \n",
        "        print(f'izquierda {izquierda}, derecha {derecha}')\n",
        "        print(lista)\n",
        "        print('-' * 50)\n",
        "\n",
        "    return lista\n",
        "\n",
        "\n",
        "if __name__ == '__main__':\n",
        "    tamano_de_lista = int(input('De que tamano sera la lista? '))\n",
        "\n",
        "    lista = [random.randint(0, 100) for i in range(tamano_de_lista)]\n",
        "    print(lista)\n",
        "    print('-' * 20)\n",
        "\n",
        "    lista_ordenada = ordenamiento_por_mezcla(lista)\n",
        "    print(lista_ordenada)"
      ],
      "metadata": {
        "colab": {
          "base_uri": "https://localhost:8080/"
        },
        "id": "jyKXXK95VaO3",
        "outputId": "72dba40b-3b8e-463b-eee9-5792fdb6217e"
      },
      "execution_count": 11,
      "outputs": [
        {
          "output_type": "stream",
          "name": "stdout",
          "text": [
            "De que tamano sera la lista? 15\n",
            "[21, 1, 19, 51, 39, 9, 14, 63, 79, 67, 45, 21, 52, 2, 73]\n",
            "--------------------\n",
            "[21, 1, 19, 51, 39, 9, 14] ***** [63, 79, 67, 45, 21, 52, 2, 73]\n",
            "[21, 1, 19] ***** [51, 39, 9, 14]\n",
            "[21] ***** [1, 19]\n",
            "[1] ***** [19]\n",
            "izquierda [1], derecha [19]\n",
            "[1, 19]\n",
            "--------------------------------------------------\n",
            "izquierda [21], derecha [1, 19]\n",
            "[1, 19, 21]\n",
            "--------------------------------------------------\n",
            "[51, 39] ***** [9, 14]\n",
            "[51] ***** [39]\n",
            "izquierda [51], derecha [39]\n",
            "[39, 51]\n",
            "--------------------------------------------------\n",
            "[9] ***** [14]\n",
            "izquierda [9], derecha [14]\n",
            "[9, 14]\n",
            "--------------------------------------------------\n",
            "izquierda [39, 51], derecha [9, 14]\n",
            "[9, 14, 39, 51]\n",
            "--------------------------------------------------\n",
            "izquierda [1, 19, 21], derecha [9, 14, 39, 51]\n",
            "[1, 9, 14, 19, 21, 39, 51]\n",
            "--------------------------------------------------\n",
            "[63, 79, 67, 45] ***** [21, 52, 2, 73]\n",
            "[63, 79] ***** [67, 45]\n",
            "[63] ***** [79]\n",
            "izquierda [63], derecha [79]\n",
            "[63, 79]\n",
            "--------------------------------------------------\n",
            "[67] ***** [45]\n",
            "izquierda [67], derecha [45]\n",
            "[45, 67]\n",
            "--------------------------------------------------\n",
            "izquierda [63, 79], derecha [45, 67]\n",
            "[45, 63, 67, 79]\n",
            "--------------------------------------------------\n",
            "[21, 52] ***** [2, 73]\n",
            "[21] ***** [52]\n",
            "izquierda [21], derecha [52]\n",
            "[21, 52]\n",
            "--------------------------------------------------\n",
            "[2] ***** [73]\n",
            "izquierda [2], derecha [73]\n",
            "[2, 73]\n",
            "--------------------------------------------------\n",
            "izquierda [21, 52], derecha [2, 73]\n",
            "[2, 21, 52, 73]\n",
            "--------------------------------------------------\n",
            "izquierda [45, 63, 67, 79], derecha [2, 21, 52, 73]\n",
            "[2, 21, 45, 52, 63, 67, 73, 79]\n",
            "--------------------------------------------------\n",
            "izquierda [1, 9, 14, 19, 21, 39, 51], derecha [2, 21, 45, 52, 63, 67, 73, 79]\n",
            "[1, 2, 9, 14, 19, 21, 21, 39, 45, 51, 52, 63, 67, 73, 79]\n",
            "--------------------------------------------------\n",
            "[1, 2, 9, 14, 19, 21, 21, 39, 45, 51, 52, 63, 67, 73, 79]\n"
          ]
        }
      ]
    }
  ]
}
